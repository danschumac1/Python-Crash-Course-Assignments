{
 "cells": [
  {
   "cell_type": "markdown",
   "id": "41e19171",
   "metadata": {},
   "source": [
    "# Prime Factorization -\n",
    "#Have the user enter a number and find all Prime Factors (if there are any) and display them."
   ]
  },
  {
   "cell_type": "code",
   "execution_count": null,
   "id": "7423d88e",
   "metadata": {},
   "outputs": [
    {
     "name": "stdout",
     "output_type": "stream",
     "text": [
      "What number would you like the prime factors for? 15\n"
     ]
    },
    {
     "name": "stderr",
     "output_type": "stream",
     "text": [
      "IOPub data rate exceeded.\n",
      "The notebook server will temporarily stop sending output\n",
      "to the client in order to avoid crashing it.\n",
      "To change this limit, set the config variable\n",
      "`--NotebookApp.iopub_data_rate_limit`.\n",
      "\n",
      "Current values:\n",
      "NotebookApp.iopub_data_rate_limit=1000000.0 (bytes/sec)\n",
      "NotebookApp.rate_limit_window=3.0 (secs)\n",
      "\n"
     ]
    }
   ],
   "source": [
    "# let's try with a clean slate\n",
    "\n",
    "prime_list = []\n",
    "current_num = 2\n",
    "game_on = 'y'\n",
    "\n",
    "inputed_num = int(input('What number would you like the prime factors for? '))\n",
    "\n",
    "while inputed_num>current_num:\n",
    "    \n",
    "    #We will assume the number we are looking at is prime unless we can prove otherwise\n",
    "    prime = True   \n",
    "    \n",
    "    for iterable_nums in range(2,current_num):\n",
    "        \n",
    "        \n",
    "        if current_number % iterable_nums == 0:\n",
    "            #number is not prime\n",
    "            prime = False\n",
    "            current_number+=1\n",
    "            \n",
    "            \n",
    "        else:\n",
    "            #so far this number seems prime\n",
    "            continue\n",
    "            \n",
    "    if prime == True:\n",
    "        prime_list.append(current_num)\n",
    "        print(prime_list)\n",
    "\n",
    "print('Okay, see you next time')"
   ]
  },
  {
   "cell_type": "code",
   "execution_count": null,
   "id": "fff356ae",
   "metadata": {},
   "outputs": [],
   "source": []
  },
  {
   "cell_type": "code",
   "execution_count": null,
   "id": "28628b4e",
   "metadata": {},
   "outputs": [],
   "source": []
  },
  {
   "cell_type": "code",
   "execution_count": null,
   "id": "2c0b429a",
   "metadata": {},
   "outputs": [],
   "source": []
  },
  {
   "cell_type": "code",
   "execution_count": null,
   "id": "bd38de3d",
   "metadata": {},
   "outputs": [],
   "source": []
  },
  {
   "cell_type": "code",
   "execution_count": null,
   "id": "de1c7caf",
   "metadata": {},
   "outputs": [],
   "source": []
  },
  {
   "cell_type": "code",
   "execution_count": null,
   "id": "90a08338",
   "metadata": {},
   "outputs": [],
   "source": []
  },
  {
   "cell_type": "code",
   "execution_count": null,
   "id": "ea7eae18",
   "metadata": {},
   "outputs": [],
   "source": []
  },
  {
   "cell_type": "code",
   "execution_count": null,
   "id": "9abbb273",
   "metadata": {},
   "outputs": [],
   "source": []
  },
  {
   "cell_type": "code",
   "execution_count": null,
   "id": "74439791",
   "metadata": {},
   "outputs": [],
   "source": []
  },
  {
   "cell_type": "code",
   "execution_count": null,
   "id": "68a78427",
   "metadata": {},
   "outputs": [],
   "source": []
  },
  {
   "cell_type": "code",
   "execution_count": null,
   "id": "27cf8515",
   "metadata": {},
   "outputs": [],
   "source": []
  },
  {
   "cell_type": "code",
   "execution_count": null,
   "id": "be95fe7c",
   "metadata": {},
   "outputs": [],
   "source": []
  },
  {
   "cell_type": "code",
   "execution_count": null,
   "id": "194c959c",
   "metadata": {},
   "outputs": [],
   "source": []
  },
  {
   "cell_type": "code",
   "execution_count": null,
   "id": "1d002e91",
   "metadata": {},
   "outputs": [],
   "source": []
  },
  {
   "cell_type": "code",
   "execution_count": null,
   "id": "35c59496",
   "metadata": {},
   "outputs": [],
   "source": []
  },
  {
   "cell_type": "code",
   "execution_count": null,
   "id": "4f294ad3",
   "metadata": {},
   "outputs": [],
   "source": []
  },
  {
   "cell_type": "code",
   "execution_count": null,
   "id": "8087593c",
   "metadata": {},
   "outputs": [],
   "source": []
  },
  {
   "cell_type": "code",
   "execution_count": null,
   "id": "b9626142",
   "metadata": {},
   "outputs": [],
   "source": []
  },
  {
   "cell_type": "code",
   "execution_count": null,
   "id": "9c2d752d",
   "metadata": {},
   "outputs": [],
   "source": []
  },
  {
   "cell_type": "code",
   "execution_count": null,
   "id": "27bb5d94",
   "metadata": {},
   "outputs": [],
   "source": []
  },
  {
   "cell_type": "code",
   "execution_count": null,
   "id": "e6874816",
   "metadata": {},
   "outputs": [],
   "source": []
  },
  {
   "cell_type": "code",
   "execution_count": 3,
   "id": "952d783c",
   "metadata": {
    "scrolled": true
   },
   "outputs": [
    {
     "ename": "IndentationError",
     "evalue": "unindent does not match any outer indentation level (<tokenize>, line 34)",
     "output_type": "error",
     "traceback": [
      "\u001b[1;36m  File \u001b[1;32m<tokenize>:34\u001b[1;36m\u001b[0m\n\u001b[1;33m    if prime == True and game_on == 'y':\u001b[0m\n\u001b[1;37m    ^\u001b[0m\n\u001b[1;31mIndentationError\u001b[0m\u001b[1;31m:\u001b[0m unindent does not match any outer indentation level\n"
     ]
    }
   ],
   "source": [
    "#set up variables we will need\n",
    "\n",
    "#this is the list of numbers we will divide by to find the prime factors\n",
    "prime_list = []\n",
    "\n",
    "#this is the list returned to user\n",
    "prime_factor_list = []\n",
    "\n",
    "#we assume the numbers are prime before we add them to our list\n",
    "prime = True\n",
    "\n",
    "#Ask the user what number they'd like the Prime Factors for.\n",
    "#later I could add data validation. Must be int larger than 2 and a positive\n",
    "inputed_num = int(input('What number would you like the prime factors for? '))\n",
    "\n",
    "#find all primes lower than half the inputed number and save them to a list\n",
    "\n",
    "#for all numbers between 2 and half inputed number\n",
    "for num in range(2:inputed_num/2)\n",
    "    #this is our itterator\n",
    "    prime = True\n",
    "    current_num = 2\n",
    "    for iterable_nums in range(2,current_number):\n",
    "        \n",
    "\n",
    "\n",
    "            if current_number % iterable_nums == 0:\n",
    "                #number is not prime\n",
    "                prime = False\n",
    "            else:\n",
    "                #so far this number seems prime\n",
    "                continue\n",
    "\n",
    "        if prime == True and game_on == 'y':\n",
    "            game_on = input('Would you like the next print number? Please enter y or n: ')\n",
    "            print(f'The next prime is {current_number}')\n",
    "            current_number+=1\n",
    "            \n",
    "print(prime_list)\n",
    "\n",
    "#if the number the user entered is also prime...\n",
    "#if len(prime_factor_list)=1:\n",
    " #   print(f'The number {inputed_num} is actually prime, therefor it has no prime factors')\n",
    "\n",
    "#if there are prime factors, print\n",
    "#else:\n",
    " #   print(f\"The number {inputed_num}'s prime factors are: \")\n",
    "  #  for num in prime_factor_list:\n",
    "   #     print num\n",
    "    "
   ]
  },
  {
   "cell_type": "code",
   "execution_count": null,
   "id": "7af1d3bb",
   "metadata": {},
   "outputs": [],
   "source": []
  },
  {
   "cell_type": "code",
   "execution_count": null,
   "id": "e543c79a",
   "metadata": {},
   "outputs": [],
   "source": []
  },
  {
   "cell_type": "code",
   "execution_count": null,
   "id": "e9666b05",
   "metadata": {},
   "outputs": [],
   "source": []
  },
  {
   "cell_type": "code",
   "execution_count": null,
   "id": "845c3703",
   "metadata": {},
   "outputs": [],
   "source": []
  },
  {
   "cell_type": "code",
   "execution_count": null,
   "id": "22dc6354",
   "metadata": {},
   "outputs": [],
   "source": []
  },
  {
   "cell_type": "code",
   "execution_count": null,
   "id": "4edbbf5b",
   "metadata": {},
   "outputs": [],
   "source": []
  },
  {
   "cell_type": "markdown",
   "id": "a338991d",
   "metadata": {},
   "source": [
    "# Thrid Try\n"
   ]
  },
  {
   "cell_type": "code",
   "execution_count": null,
   "id": "0d654f3f",
   "metadata": {},
   "outputs": [],
   "source": [
    "prime_list = []\n",
    "for num in range(2,10):\n",
    "    for divider in range(2,num)\n",
    "        if num%divider == 0:\n",
    "            pass\n",
    "            #the number is not prime\n",
    "            else:\n",
    "                continue\n",
    "    else:\n",
    "        prime_list.append(num)\n",
    "print(prime_list)"
   ]
  },
  {
   "cell_type": "markdown",
   "id": "bb342651",
   "metadata": {},
   "source": [
    "# Fourth try"
   ]
  },
  {
   "cell_type": "code",
   "execution_count": null,
   "id": "16f19198",
   "metadata": {},
   "outputs": [],
   "source": [
    "#def find_primes(inputed_num)\n",
    "inputed_num = 10\n",
    "prime_list = [2]\n",
    "current_num = 3\n",
    "game_on = 'y'\n",
    "\n",
    "#While there are still numbers between 2 and half the inputed num.\n",
    "while (inputed_num/2)>current_num:\n",
    "\n",
    "    #We will current_num is prime unless we can prove otherwise\n",
    "    prime = True\n",
    "\n",
    "    for num in range(2,inputed_num):\n",
    "        # check for factors\n",
    "        for i in range(2, num):\n",
    "            if (num % i) == 0:\n",
    "                # if factor is found, set flag to True\n",
    "                flag = True\n",
    "                # break out of loop\n",
    "                break\n",
    "            \n",
    "            \n",
    "            \n",
    "        else:\n",
    "            #so far this number seems prime\n",
    "            continue\n",
    "\n",
    "    if prime == True and game_on == 'y':\n",
    "        prime_list.append(current_number)z\n",
    "        game_on = input('Would you like the next print number? Please enter y or n: ')\n",
    "        print(f'The next prime is {current_number}')\n",
    "        current_number+=1\n"
   ]
  },
  {
   "cell_type": "code",
   "execution_count": null,
   "id": "fd19ecdb",
   "metadata": {},
   "outputs": [],
   "source": []
  },
  {
   "cell_type": "code",
   "execution_count": null,
   "id": "c8daea83",
   "metadata": {},
   "outputs": [],
   "source": []
  }
 ],
 "metadata": {
  "kernelspec": {
   "display_name": "Python 3 (ipykernel)",
   "language": "python",
   "name": "python3"
  },
  "language_info": {
   "codemirror_mode": {
    "name": "ipython",
    "version": 3
   },
   "file_extension": ".py",
   "mimetype": "text/x-python",
   "name": "python",
   "nbconvert_exporter": "python",
   "pygments_lexer": "ipython3",
   "version": "3.9.12"
  }
 },
 "nbformat": 4,
 "nbformat_minor": 5
}
