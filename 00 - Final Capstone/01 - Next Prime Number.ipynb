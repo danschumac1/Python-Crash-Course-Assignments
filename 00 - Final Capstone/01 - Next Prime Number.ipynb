{
 "cells": [
  {
   "cell_type": "markdown",
   "id": "3f572151",
   "metadata": {},
   "source": [
    "# Next Prime Number \n",
    "Have the program find prime numbers until the user chooses to stop asking for the next one."
   ]
  },
  {
   "cell_type": "markdown",
   "id": "8ceeeb05",
   "metadata": {},
   "source": [
    "## Method Number 1. First Attempt"
   ]
  },
  {
   "cell_type": "code",
   "execution_count": 1,
   "id": "9f29e883",
   "metadata": {},
   "outputs": [
    {
     "name": "stdout",
     "output_type": "stream",
     "text": [
      "Would you like the next print number? Please enter y or n: y\n",
      "The next prime is 101\n",
      "Would you like the next print number? Please enter y or n: y\n",
      "The next prime is 103\n",
      "Would you like the next print number? Please enter y or n: n\n",
      "The next prime is 107\n",
      "Okay, see you next time\n"
     ]
    }
   ],
   "source": [
    "#set up variables we will need\n",
    "prime_list = []\n",
    "current_number = 100\n",
    "game_on = 'y'\n",
    "\n",
    "\n",
    "#While the user asks for more numbers\n",
    "while game_on == 'y':\n",
    "    \n",
    "    #We will assume the number we are looking at is prime unless we can prove otherwise\n",
    "    prime = True\n",
    "    \n",
    "    #take the users input    \n",
    "    \n",
    "    for iterable_nums in range(2,current_number):\n",
    "        \n",
    "        \n",
    "        if current_number % iterable_nums == 0:\n",
    "            #number is not prime\n",
    "            prime = False\n",
    "            current_number+=1\n",
    "            \n",
    "            \n",
    "        else:\n",
    "            #so far this number seems prime\n",
    "            continue\n",
    "            \n",
    "    if prime == True and game_on == 'y':\n",
    "        prime_list.append(current_number)\n",
    "        game_on = input('Would you like the next print number? Please enter y or n: ')\n",
    "        print(f'The next prime is {current_number}')\n",
    "        current_number+=1\n",
    "\n",
    "print('Okay, see you next time')"
   ]
  },
  {
   "cell_type": "code",
   "execution_count": null,
   "id": "592907e8",
   "metadata": {},
   "outputs": [],
   "source": [
    "# 1 is not a prime number. 2 is thoughy"
   ]
  },
  {
   "cell_type": "code",
   "execution_count": 4,
   "id": "f919e655",
   "metadata": {},
   "outputs": [
    {
     "data": {
      "text/plain": [
       "2"
      ]
     },
     "execution_count": 4,
     "metadata": {},
     "output_type": "execute_result"
    }
   ],
   "source": [
    "8%3"
   ]
  },
  {
   "cell_type": "code",
   "execution_count": 4,
   "id": "68f9e97f",
   "metadata": {},
   "outputs": [],
   "source": [
    "for iterable_nums in range(2,current_number):\n",
    "    print(hello)\n"
   ]
  },
  {
   "cell_type": "code",
   "execution_count": 8,
   "id": "14c8bdd9",
   "metadata": {},
   "outputs": [
    {
     "name": "stdout",
     "output_type": "stream",
     "text": [
      "0\n",
      "1\n",
      "2\n",
      "3\n",
      "4\n",
      "5\n",
      "6\n",
      "7\n",
      "8\n",
      "9\n",
      "10\n",
      "11\n",
      "12\n",
      "13\n",
      "14\n",
      "15\n",
      "16\n",
      "17\n",
      "18\n"
     ]
    }
   ],
   "source": [
    "for nums in range(0,19):\n",
    "    print (nums)"
   ]
  },
  {
   "cell_type": "markdown",
   "id": "53049afc",
   "metadata": {},
   "source": [
    "## Method Number 2.\n",
    "just divides by primes instead of all numbers 0 to number"
   ]
  },
  {
   "cell_type": "code",
   "execution_count": 29,
   "id": "16d7545b",
   "metadata": {
    "scrolled": true
   },
   "outputs": [
    {
     "name": "stdout",
     "output_type": "stream",
     "text": [
      "The first prime number is 2\n",
      "Would you like the next print number? Please enter y or n: y\n",
      "The next prime is 3\n",
      "Would you like the next print number? Please enter y or n: y\n",
      "The next prime is 5\n",
      "Would you like the next print number? Please enter y or n: y\n",
      "The next prime is 7\n",
      "Would you like the next print number? Please enter y or n: y\n",
      "The next prime is 11\n",
      "Would you like the next print number? Please enter y or n: y\n",
      "The next prime is 13\n",
      "Would you like the next print number? Please enter y or n: y\n",
      "The next prime is 17\n",
      "Would you like the next print number? Please enter y or n: y\n",
      "The next prime is 19\n",
      "Would you like the next print number? Please enter y or n: y\n",
      "The next prime is 23\n",
      "Would you like the next print number? Please enter y or n: y\n",
      "The next prime is 29\n",
      "Would you like the next print number? Please enter y or n: y\n",
      "The next prime is 31\n",
      "Would you like the next print number? Please enter y or n: n\n",
      "The next prime is 37\n",
      "Okay, see you next time\n"
     ]
    }
   ],
   "source": [
    "#set up variables we will need\n",
    "prime_list = [2]\n",
    "current_number = 3\n",
    "game_on = 'y'\n",
    "\n",
    "print('The first prime number is 2')\n",
    "\n",
    "#While the user asks for more numbers\n",
    "while game_on == 'y':\n",
    "    \n",
    "    #We will assume the number we are looking at is prime unless we can prove otherwise\n",
    "    prime = True\n",
    "    \n",
    "    #take the users input    \n",
    "    \n",
    "    for num in prime_list:\n",
    "    \n",
    "        if current_number % num == 0:\n",
    "            #number is not prime\n",
    "            prime = False\n",
    "            current_number+=1\n",
    "            \n",
    "            \n",
    "        else:\n",
    "            #so far this number seems prime\n",
    "            continue\n",
    "            \n",
    "    if prime == True and game_on == 'y':\n",
    "        prime_list.append(current_number)\n",
    "        game_on = input('Would you like the next print number? Please enter y or n: ')\n",
    "        print(f'The next prime is {current_number}')\n",
    "        current_number+=1\n",
    "\n",
    "print('Okay, see you next time')"
   ]
  },
  {
   "cell_type": "code",
   "execution_count": 30,
   "id": "1a5a1f36",
   "metadata": {},
   "outputs": [
    {
     "data": {
      "text/plain": [
       "[2, 3, 5, 7, 11, 13, 17, 19, 23, 29, 31, 37]"
      ]
     },
     "execution_count": 30,
     "metadata": {},
     "output_type": "execute_result"
    }
   ],
   "source": [
    "prime_list"
   ]
  }
 ],
 "metadata": {
  "kernelspec": {
   "display_name": "Python 3 (ipykernel)",
   "language": "python",
   "name": "python3"
  },
  "language_info": {
   "codemirror_mode": {
    "name": "ipython",
    "version": 3
   },
   "file_extension": ".py",
   "mimetype": "text/x-python",
   "name": "python",
   "nbconvert_exporter": "python",
   "pygments_lexer": "ipython3",
   "version": "3.9.12"
  }
 },
 "nbformat": 4,
 "nbformat_minor": 5
}
