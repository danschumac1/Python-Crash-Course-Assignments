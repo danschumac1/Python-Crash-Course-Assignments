{
 "cells": [
  {
   "cell_type": "markdown",
   "id": "0b0b9374",
   "metadata": {},
   "source": [
    "### Find Cost of Tile to Cover W x H Floor - \n",
    "Calculate the total cost of tile it would take to cover a floor plan of width and height, using a cost entered by the user."
   ]
  },
  {
   "cell_type": "code",
   "execution_count": 2,
   "id": "3f119b2e",
   "metadata": {},
   "outputs": [],
   "source": [
    "def find_cost_of_tile(w,h,c):\n",
    "    total_cost = w*h*c\n",
    "    return total_cost"
   ]
  },
  {
   "cell_type": "code",
   "execution_count": 4,
   "id": "39f1ec5b",
   "metadata": {},
   "outputs": [
    {
     "data": {
      "text/plain": [
       "67.0"
      ]
     },
     "execution_count": 4,
     "metadata": {},
     "output_type": "execute_result"
    }
   ],
   "source": [
    "find_cost_of_tile(10,10,.67)"
   ]
  }
 ],
 "metadata": {
  "kernelspec": {
   "display_name": "Python 3 (ipykernel)",
   "language": "python",
   "name": "python3"
  },
  "language_info": {
   "codemirror_mode": {
    "name": "ipython",
    "version": 3
   },
   "file_extension": ".py",
   "mimetype": "text/x-python",
   "name": "python",
   "nbconvert_exporter": "python",
   "pygments_lexer": "ipython3",
   "version": "3.9.12"
  }
 },
 "nbformat": 4,
 "nbformat_minor": 5
}
