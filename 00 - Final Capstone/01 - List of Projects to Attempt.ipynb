{
 "cells": [
  {
   "cell_type": "markdown",
   "id": "100c8e3b",
   "metadata": {},
   "source": [
    "# List of Projects to Attempt"
   ]
  },
  {
   "cell_type": "markdown",
   "id": "110d7950",
   "metadata": {},
   "source": [
    "## TO - DO"
   ]
  },
  {
   "cell_type": "markdown",
   "id": "7169b871",
   "metadata": {},
   "source": [
    "### Tax Calculator\n",
    "Asks the user to enter a cost and either a country or state tax. It then returns the tax plus the total cost with tax."
   ]
  },
  {
   "cell_type": "markdown",
   "id": "0cd8640a",
   "metadata": {},
   "source": [
    "### Happy Numbers - \n",
    "A happy number is defined by the following process. Starting with any positive integer, replace the number by the sum of the squares of its digits, and repeat the process until the number equals 1 (where it will stay), or it loops endlessly in a cycle which does not include 1. Those numbers for which this process ends in 1 are happy numbers, while those that do not end in 1 are unhappy numbers. Display an example of your output here. Find first 8 happy numbers."
   ]
  },
  {
   "cell_type": "markdown",
   "id": "74edf87d",
   "metadata": {},
   "source": [
    "### Number Names - \n",
    "Show how to spell out a number in English. You can use a preexisting implementation or roll your own, but you should support inputs up to at least one million (or the maximum value of your language's default bounded integer type, if that's less). Optional: Support for inputs other than positive integers (like zero, negative integers, and floating-point numbers)."
   ]
  },
  {
   "cell_type": "markdown",
   "id": "e59a73f4",
   "metadata": {},
   "source": [
    "### Coin Flip Simulation - \n",
    "Write some code that simulates flipping a single coin however many times the user decides. The code should record the outcomes and count the number of tails and heads."
   ]
  },
  {
   "cell_type": "markdown",
   "id": "84bd5dbc",
   "metadata": {},
   "source": [
    "### Collatz Conjecture - \n",
    "Start with a number n > 1. Find the number of steps it takes to reach one using the following process: If n is even, divide it by 2. If n is odd, multiply it by 3 and add 1."
   ]
  },
  {
   "cell_type": "markdown",
   "id": "3a503c05",
   "metadata": {},
   "source": [
    "### Pig Latin - \n",
    "Pig Latin is a game of alterations played on the English language game. To create the Pig Latin form of an English word the initial consonant sound is transposed to the end of the word and an ay is affixed (Ex.: \"banana\" would yield anana-bay). Read Wikipedia for more information on rules."
   ]
  },
  {
   "cell_type": "markdown",
   "id": "c197a98d",
   "metadata": {},
   "source": [
    "### Reverse a String - \n",
    "Enter a string and the program will reverse it and print it out."
   ]
  },
  {
   "cell_type": "markdown",
   "id": "c856aa8d",
   "metadata": {},
   "source": [
    "### Fizz Buzz - \n",
    "Write a program that prints the numbers from 1 to 100. But for multiples of three print “Fizz” instead of the number and for the multiples of five print “Buzz”. For numbers which are multiples of both three and five print “FizzBuzz”."
   ]
  },
  {
   "cell_type": "markdown",
   "id": "fba481f4",
   "metadata": {},
   "source": [
    "### Count Vowels - \n",
    "Enter a string and the program counts the number of vowels in the text. For added complexity have it report a sum of each vowel found."
   ]
  },
  {
   "cell_type": "markdown",
   "id": "fe12fa9d",
   "metadata": {},
   "source": [
    "### Check if Palindrome - \n",
    "Checks if the string entered by the user is a palindrome. That is that it reads the same forwards as backwards like “racecar”"
   ]
  },
  {
   "cell_type": "markdown",
   "id": "1bc98316",
   "metadata": {},
   "source": [
    "### Count Words in a String - \n",
    "Counts the number of individual words in a string. For added complexity read these strings in from a text file and generate a summary."
   ]
  },
  {
   "cell_type": "markdown",
   "id": "44cee599",
   "metadata": {},
   "source": [
    "### Guestbook / Journal - \n",
    "A simple application that allows people to add comments or write journal entries. It can allow comments or not and timestamps for all entries. Could also be made into a shout box. Optional: Deploy it on Google App Engine or Heroku or any other PaaS (if possible, of course)."
   ]
  },
  {
   "cell_type": "markdown",
   "id": "3668ede2",
   "metadata": {},
   "source": [
    "### Product Inventory Project - \n",
    "Create an application which manages an inventory of products. Create a product class which has a price, id, and quantity on hand. Then create an inventory class which keeps track of various products and can sum up the inventory value."
   ]
  },
  {
   "cell_type": "markdown",
   "id": "101f2152",
   "metadata": {},
   "source": [
    "### Page Scraper - \n",
    "Create an application which connects to a site and pulls out all links, or images, and saves them to a list. Optional: Organize the indexed content and don’t allow duplicates. Have it put the results into an easily searchable index file."
   ]
  },
  {
   "cell_type": "markdown",
   "id": "0ba4920b",
   "metadata": {},
   "source": [
    "### Get Atomic Time from Internet Clock - \n",
    "This program will get the true atomic time from an atomic time clock on the Internet. Use any one of the atomic clocks returned by a simple Google search."
   ]
  },
  {
   "cell_type": "markdown",
   "id": "b128195f",
   "metadata": {},
   "source": [
    "### E-Card Generator - \n",
    "Make a site that allows people to generate their own little e-cards and send them to other people. Do not use Flash. Use a picture library and perhaps insightful mottos or quotes."
   ]
  },
  {
   "cell_type": "markdown",
   "id": "e7834316",
   "metadata": {},
   "source": [
    "### Quiz Maker - \n",
    "Make an application which takes various questions from a file, picked randomly, and puts together a quiz for students. Each quiz can be different and then reads a key to grade the quizzes."
   ]
  },
  {
   "cell_type": "markdown",
   "id": "5100c7ff",
   "metadata": {},
   "source": [
    "### Budget Tracker - \n",
    "Write an application that keeps track of a household’s budget. The user can add expenses, income, and recurring costs to find out how much they are saving or losing over a period of time. Optional: Allow the user to specify a date range and see the net flow of money in and out of the house budget for that time period."
   ]
  },
  {
   "cell_type": "markdown",
   "id": "1ed8250d",
   "metadata": {},
   "source": [
    "### Event Scheduler and Calendar - \n",
    "Make an application which allows the user to enter a date and time of an event, event notes and then schedule those events on a calendar. The user can then browse the calendar or search the calendar for specific events. Optional: Allow the application to create re-occurrence events that reoccur every day, week, month, year etc."
   ]
  },
  {
   "cell_type": "markdown",
   "id": "2120468a",
   "metadata": {},
   "source": [
    "### TV Show Tracker - \n",
    "Got a favorite show you don’t want to miss? Don’t have a PVR or want to be able to find the show to then PVR it later? Make an application which can search various online TV Guide sites, locate the shows/times/channels and add them to a database application. The database/website then can send you email reminders that a show is about to start and which channel it will be on."
   ]
  },
  {
   "cell_type": "markdown",
   "id": "89fe7b9f",
   "metadata": {},
   "source": [
    "### Watermarking Application - \n",
    "Have some pictures you want copyright protected? Add your own logo or text lightly across the background so that no one can simply steal your graphics off your site. Make a program that will add this watermark to the picture. Optional: Use threading to process multiple images simultaneously."
   ]
  },
  {
   "cell_type": "markdown",
   "id": "d70064aa",
   "metadata": {},
   "source": [
    "### Turtle Graphics - \n",
    "This is a common project where you create a floor of 20 x 20 squares. Using various commands you tell a turtle to draw a line on the floor. You have move forward, left or right, lift or drop pen etc. Do a search online for \"Turtle Graphics\" for more information. Optional: Allow the program to read in the list of commands from a file."
   ]
  },
  {
   "cell_type": "markdown",
   "id": "26d993e3",
   "metadata": {},
   "source": [
    "# DONE"
   ]
  },
  {
   "cell_type": "markdown",
   "id": "6dbe9962",
   "metadata": {},
   "source": [
    "### Next Prime Number - \n",
    "Have the program find prime numbers until the user chooses to stop asking for the next one."
   ]
  },
  {
   "cell_type": "markdown",
   "id": "238df173",
   "metadata": {},
   "source": [
    "### Prime Factorization - \n",
    "Have the user enter a number and find all Prime Factors (if there are any) and display them."
   ]
  },
  {
   "cell_type": "markdown",
   "id": "fe6893dd",
   "metadata": {},
   "source": [
    "### Find Cost of Tile to Cover W x H Floor - \n",
    "Calculate the total cost of tile it would take to cover a floor plan of width and height, using a cost entered by the user."
   ]
  },
  {
   "cell_type": "markdown",
   "id": "77325ef2",
   "metadata": {},
   "source": [
    "### Change Return Program - \n",
    "The user enters a cost and then the amount of money given. The program will figure out the change and the number of quarters, dimes, nickels, pennies needed for the change."
   ]
  }
 ],
 "metadata": {
  "kernelspec": {
   "display_name": "Python 3 (ipykernel)",
   "language": "python",
   "name": "python3"
  },
  "language_info": {
   "codemirror_mode": {
    "name": "ipython",
    "version": 3
   },
   "file_extension": ".py",
   "mimetype": "text/x-python",
   "name": "python",
   "nbconvert_exporter": "python",
   "pygments_lexer": "ipython3",
   "version": "3.9.12"
  }
 },
 "nbformat": 4,
 "nbformat_minor": 5
}
