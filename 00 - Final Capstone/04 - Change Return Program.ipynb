{
 "cells": [
  {
   "cell_type": "markdown",
   "id": "a8d7b14a",
   "metadata": {},
   "source": [
    "### Change Return Program - \n",
    "The user enters a cost and then the amount of money given. The program will figure out the change and the number of quarters, dimes, nickels, pennies needed for the change."
   ]
  },
  {
   "cell_type": "code",
   "execution_count": 32,
   "id": "6d1d7473",
   "metadata": {},
   "outputs": [],
   "source": [
    "def change_return(cost,amt_given):\n",
    "    \n",
    "    quarters=0\n",
    "    dimes=0\n",
    "    nickles=0\n",
    "    pennies=0\n",
    "    \n",
    "    if amt_given<cost:\n",
    "        print(f\"Sorry sir/ma'am. You gave me {amt_given} which is not enough to cover the price of {cost}\")\n",
    "    elif amt_given == cost:\n",
    "        print('You gave me exact change. Have a nice day!')\n",
    "    else:\n",
    "        dif = round(amt_given-cost, 2) \n",
    "\n",
    "        if dif>=0.25:\n",
    "            quarters = dif//.25\n",
    "            dif = round(dif-(.25*quarters),2)\n",
    "       \n",
    "        if dif>=.10:\n",
    "            dimes = dif//.10 \n",
    "            dif = dif-(.10*dimes)\n",
    "            \n",
    "        \n",
    "        if dif>=.05:\n",
    "            nickles = round(dif//.05)\n",
    "            dif = dif-(.05*nickles)\n",
    "            \n",
    "            \n",
    "        if dif<.05 and dif >0:\n",
    "            pennies = round(dif*100)\n",
    "        \n",
    "        print(f'quarters: {quarters}')\n",
    "        print(f'dimes: {dimes}')\n",
    "        print(f'nickles: {nickles}')\n",
    "        print(f'pennies: {pennies}')"
   ]
  },
  {
   "cell_type": "code",
   "execution_count": 36,
   "id": "c07d1db2",
   "metadata": {},
   "outputs": [
    {
     "name": "stdout",
     "output_type": "stream",
     "text": [
      "quarters: 3.0\n",
      "dimes: 0\n",
      "nickles: 1\n",
      "pennies: 0\n"
     ]
    }
   ],
   "source": [
    "change_return(67.0,67.80)"
   ]
  },
  {
   "cell_type": "code",
   "execution_count": null,
   "id": "a458df82",
   "metadata": {},
   "outputs": [],
   "source": []
  }
 ],
 "metadata": {
  "kernelspec": {
   "display_name": "Python 3 (ipykernel)",
   "language": "python",
   "name": "python3"
  },
  "language_info": {
   "codemirror_mode": {
    "name": "ipython",
    "version": 3
   },
   "file_extension": ".py",
   "mimetype": "text/x-python",
   "name": "python",
   "nbconvert_exporter": "python",
   "pygments_lexer": "ipython3",
   "version": "3.9.12"
  }
 },
 "nbformat": 4,
 "nbformat_minor": 5
}
